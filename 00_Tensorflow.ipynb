{
  "nbformat": 4,
  "nbformat_minor": 0,
  "metadata": {
    "colab": {
      "name": "00_Tensorflow.ipynb",
      "provenance": [],
      "authorship_tag": "ABX9TyOTZcrApJfa9gjIJCQXIkh3",
      "include_colab_link": true
    },
    "kernelspec": {
      "name": "python3",
      "display_name": "Python 3"
    },
    "language_info": {
      "name": "python"
    },
    "accelerator": "GPU"
  },
  "cells": [
    {
      "cell_type": "markdown",
      "metadata": {
        "id": "view-in-github",
        "colab_type": "text"
      },
      "source": [
        "<a href=\"https://colab.research.google.com/github/Krishna-Bhatt/DeepLearning/blob/main/00_Tensorflow.ipynb\" target=\"_parent\"><img src=\"https://colab.research.google.com/assets/colab-badge.svg\" alt=\"Open In Colab\"/></a>"
      ]
    },
    {
      "cell_type": "code",
      "metadata": {
        "colab": {
          "base_uri": "https://localhost:8080/"
        },
        "id": "0qhLpOwZ_hS0",
        "outputId": "9b75e75e-b779-44e0-cb55-91ba8ab490b5"
      },
      "source": [
        "import tensorflow as tf\n",
        "print(tf.__version__)\n"
      ],
      "execution_count": null,
      "outputs": [
        {
          "output_type": "stream",
          "text": [
            "2.4.1\n"
          ],
          "name": "stdout"
        }
      ]
    },
    {
      "cell_type": "code",
      "metadata": {
        "colab": {
          "base_uri": "https://localhost:8080/"
        },
        "id": "1g6pM82hARQQ",
        "outputId": "e987797a-30e4-4aae-9460-fb60fecfbb63"
      },
      "source": [
        "sc = tf.constant(7)\n",
        "sc"
      ],
      "execution_count": null,
      "outputs": [
        {
          "output_type": "execute_result",
          "data": {
            "text/plain": [
              "<tf.Tensor: shape=(), dtype=int32, numpy=7>"
            ]
          },
          "metadata": {
            "tags": []
          },
          "execution_count": 2
        }
      ]
    },
    {
      "cell_type": "code",
      "metadata": {
        "colab": {
          "base_uri": "https://localhost:8080/"
        },
        "id": "7nu62w_hAkhX",
        "outputId": "f811f1c5-5d7e-47ad-b8a8-b91f723162b0"
      },
      "source": [
        "sc.ndim"
      ],
      "execution_count": null,
      "outputs": [
        {
          "output_type": "execute_result",
          "data": {
            "text/plain": [
              "0"
            ]
          },
          "metadata": {
            "tags": []
          },
          "execution_count": 3
        }
      ]
    },
    {
      "cell_type": "code",
      "metadata": {
        "colab": {
          "base_uri": "https://localhost:8080/"
        },
        "id": "u-jT6uS4AnoV",
        "outputId": "a1c44434-9320-424f-eafc-0e3b897ae044"
      },
      "source": [
        "vc = tf.constant([1,1])\n",
        "vc"
      ],
      "execution_count": null,
      "outputs": [
        {
          "output_type": "execute_result",
          "data": {
            "text/plain": [
              "<tf.Tensor: shape=(2,), dtype=int32, numpy=array([1, 1], dtype=int32)>"
            ]
          },
          "metadata": {
            "tags": []
          },
          "execution_count": 4
        }
      ]
    },
    {
      "cell_type": "code",
      "metadata": {
        "colab": {
          "base_uri": "https://localhost:8080/"
        },
        "id": "tKaaVsMdAvHE",
        "outputId": "c32352c9-db73-4e89-8152-9301c4bd1fcf"
      },
      "source": [
        "vc.ndim"
      ],
      "execution_count": null,
      "outputs": [
        {
          "output_type": "execute_result",
          "data": {
            "text/plain": [
              "1"
            ]
          },
          "metadata": {
            "tags": []
          },
          "execution_count": 5
        }
      ]
    },
    {
      "cell_type": "code",
      "metadata": {
        "colab": {
          "base_uri": "https://localhost:8080/"
        },
        "id": "YH2x3EW5AybU",
        "outputId": "a7fce8a1-481b-4117-9750-a4e1664c618c"
      },
      "source": [
        "mt = tf.constant([[1,2],[3,4]])\n",
        "mt"
      ],
      "execution_count": null,
      "outputs": [
        {
          "output_type": "execute_result",
          "data": {
            "text/plain": [
              "<tf.Tensor: shape=(2, 2), dtype=int32, numpy=\n",
              "array([[1, 2],\n",
              "       [3, 4]], dtype=int32)>"
            ]
          },
          "metadata": {
            "tags": []
          },
          "execution_count": 6
        }
      ]
    },
    {
      "cell_type": "code",
      "metadata": {
        "colab": {
          "base_uri": "https://localhost:8080/"
        },
        "id": "ZiMXcFEHA8_O",
        "outputId": "473a4637-7166-407f-c3e9-ea925b4610e2"
      },
      "source": [
        "mt.ndim"
      ],
      "execution_count": null,
      "outputs": [
        {
          "output_type": "execute_result",
          "data": {
            "text/plain": [
              "2"
            ]
          },
          "metadata": {
            "tags": []
          },
          "execution_count": 7
        }
      ]
    },
    {
      "cell_type": "code",
      "metadata": {
        "colab": {
          "base_uri": "https://localhost:8080/"
        },
        "id": "cIaywCbBA_zE",
        "outputId": "a9c74cf7-b67a-4bc4-88bc-80b0cf8abf87"
      },
      "source": [
        "amt = tf.constant([[10,7],[3,2]],dtype = tf.float16)\n",
        "amt"
      ],
      "execution_count": null,
      "outputs": [
        {
          "output_type": "execute_result",
          "data": {
            "text/plain": [
              "<tf.Tensor: shape=(2, 2), dtype=float16, numpy=\n",
              "array([[10.,  7.],\n",
              "       [ 3.,  2.]], dtype=float16)>"
            ]
          },
          "metadata": {
            "tags": []
          },
          "execution_count": 8
        }
      ]
    },
    {
      "cell_type": "code",
      "metadata": {
        "id": "JaR6iHSQBcil"
      },
      "source": [
        ""
      ],
      "execution_count": null,
      "outputs": []
    },
    {
      "cell_type": "code",
      "metadata": {
        "colab": {
          "base_uri": "https://localhost:8080/"
        },
        "id": "6vHblzRtCMVN",
        "outputId": "e26e9c98-a94b-4059-a7b5-c823916e3591"
      },
      "source": [
        "c = tf.Variable([10,7])\n",
        "t = tf.constant([10,7])\n",
        "c,t"
      ],
      "execution_count": null,
      "outputs": [
        {
          "output_type": "execute_result",
          "data": {
            "text/plain": [
              "(<tf.Variable 'Variable:0' shape=(2,) dtype=int32, numpy=array([10,  7], dtype=int32)>,\n",
              " <tf.Tensor: shape=(2,), dtype=int32, numpy=array([10,  7], dtype=int32)>)"
            ]
          },
          "metadata": {
            "tags": []
          },
          "execution_count": 9
        }
      ]
    },
    {
      "cell_type": "code",
      "metadata": {
        "colab": {
          "base_uri": "https://localhost:8080/"
        },
        "id": "68oCr1LECo1n",
        "outputId": "30c12118-ac8f-4360-8e49-fb0f6ea41161"
      },
      "source": [
        "c[0].assign(70)\n",
        "c"
      ],
      "execution_count": null,
      "outputs": [
        {
          "output_type": "execute_result",
          "data": {
            "text/plain": [
              "<tf.Variable 'Variable:0' shape=(2,) dtype=int32, numpy=array([70,  7], dtype=int32)>"
            ]
          },
          "metadata": {
            "tags": []
          },
          "execution_count": 10
        }
      ]
    },
    {
      "cell_type": "code",
      "metadata": {
        "id": "ZLHDtnSEDJTE"
      },
      "source": [
        "ran = tf.random.Generator.from_seed(42)\n",
        "ran = ran.normal(shape=(3,2))\n"
      ],
      "execution_count": null,
      "outputs": []
    },
    {
      "cell_type": "code",
      "metadata": {
        "colab": {
          "base_uri": "https://localhost:8080/"
        },
        "id": "xszFGHoGE_ue",
        "outputId": "9545a6ba-5bfd-4542-ebd4-b190c7a35260"
      },
      "source": [
        "ns = tf.constant([[10,7],[3,5],[2,8]])\n",
        "ns\n"
      ],
      "execution_count": null,
      "outputs": [
        {
          "output_type": "execute_result",
          "data": {
            "text/plain": [
              "<tf.Tensor: shape=(3, 2), dtype=int32, numpy=\n",
              "array([[10,  7],\n",
              "       [ 3,  5],\n",
              "       [ 2,  8]], dtype=int32)>"
            ]
          },
          "metadata": {
            "tags": []
          },
          "execution_count": 12
        }
      ]
    },
    {
      "cell_type": "code",
      "metadata": {
        "colab": {
          "base_uri": "https://localhost:8080/"
        },
        "id": "AUHcP63oFhdN",
        "outputId": "3a3d107b-051f-4aba-c6be-b46736d31ca1"
      },
      "source": [
        "tf.random.shuffle(ns,42)"
      ],
      "execution_count": null,
      "outputs": [
        {
          "output_type": "execute_result",
          "data": {
            "text/plain": [
              "<tf.Tensor: shape=(3, 2), dtype=int32, numpy=\n",
              "array([[ 2,  8],\n",
              "       [ 3,  5],\n",
              "       [10,  7]], dtype=int32)>"
            ]
          },
          "metadata": {
            "tags": []
          },
          "execution_count": 13
        }
      ]
    },
    {
      "cell_type": "code",
      "metadata": {
        "colab": {
          "base_uri": "https://localhost:8080/"
        },
        "id": "hx0fnK-gG9f_",
        "outputId": "e986a141-f989-4821-edff-ce95e08c5fe1"
      },
      "source": [
        "tf.ones([10,7])\n"
      ],
      "execution_count": null,
      "outputs": [
        {
          "output_type": "execute_result",
          "data": {
            "text/plain": [
              "<tf.Tensor: shape=(10, 7), dtype=float32, numpy=\n",
              "array([[1., 1., 1., 1., 1., 1., 1.],\n",
              "       [1., 1., 1., 1., 1., 1., 1.],\n",
              "       [1., 1., 1., 1., 1., 1., 1.],\n",
              "       [1., 1., 1., 1., 1., 1., 1.],\n",
              "       [1., 1., 1., 1., 1., 1., 1.],\n",
              "       [1., 1., 1., 1., 1., 1., 1.],\n",
              "       [1., 1., 1., 1., 1., 1., 1.],\n",
              "       [1., 1., 1., 1., 1., 1., 1.],\n",
              "       [1., 1., 1., 1., 1., 1., 1.],\n",
              "       [1., 1., 1., 1., 1., 1., 1.]], dtype=float32)>"
            ]
          },
          "metadata": {
            "tags": []
          },
          "execution_count": 14
        }
      ]
    },
    {
      "cell_type": "code",
      "metadata": {
        "id": "5z7kAKosIFpH"
      },
      "source": [
        ""
      ],
      "execution_count": null,
      "outputs": []
    },
    {
      "cell_type": "markdown",
      "metadata": {
        "id": "U3PbS-7qILDQ"
      },
      "source": [
        "Diff btwn numpy and tf:\n",
        "tf runs faster on GPU\n",
        "***italicized text***"
      ]
    },
    {
      "cell_type": "code",
      "metadata": {
        "colab": {
          "base_uri": "https://localhost:8080/"
        },
        "id": "sPhcU4Z8IUou",
        "outputId": "24971c4c-70cc-4f92-b774-bbbaab2115c6"
      },
      "source": [
        "import numpy as np\n",
        "nA = np.arange(1,25,dtype=np.int32)\n",
        "nA"
      ],
      "execution_count": null,
      "outputs": [
        {
          "output_type": "execute_result",
          "data": {
            "text/plain": [
              "array([ 1,  2,  3,  4,  5,  6,  7,  8,  9, 10, 11, 12, 13, 14, 15, 16, 17,\n",
              "       18, 19, 20, 21, 22, 23, 24], dtype=int32)"
            ]
          },
          "metadata": {
            "tags": []
          },
          "execution_count": 15
        }
      ]
    },
    {
      "cell_type": "code",
      "metadata": {
        "colab": {
          "base_uri": "https://localhost:8080/"
        },
        "id": "oBKTP0NoISXG",
        "outputId": "773a8987-761e-4618-f36e-6f81e09622c7"
      },
      "source": [
        "A = tf.constant(nA,shape=(2,3,4))\n",
        "A"
      ],
      "execution_count": null,
      "outputs": [
        {
          "output_type": "execute_result",
          "data": {
            "text/plain": [
              "<tf.Tensor: shape=(2, 3, 4), dtype=int32, numpy=\n",
              "array([[[ 1,  2,  3,  4],\n",
              "        [ 5,  6,  7,  8],\n",
              "        [ 9, 10, 11, 12]],\n",
              "\n",
              "       [[13, 14, 15, 16],\n",
              "        [17, 18, 19, 20],\n",
              "        [21, 22, 23, 24]]], dtype=int32)>"
            ]
          },
          "metadata": {
            "tags": []
          },
          "execution_count": 16
        }
      ]
    },
    {
      "cell_type": "code",
      "metadata": {
        "id": "F0AyE6dsMPAw",
        "colab": {
          "base_uri": "https://localhost:8080/"
        },
        "outputId": "6f6be3fe-652e-4189-bd75-ff2e9c6b64ad"
      },
      "source": [
        "r4 = tf.zeros(shape=[2,3,4,5])\n",
        "r4"
      ],
      "execution_count": null,
      "outputs": [
        {
          "output_type": "execute_result",
          "data": {
            "text/plain": [
              "<tf.Tensor: shape=(2, 3, 4, 5), dtype=float32, numpy=\n",
              "array([[[[0., 0., 0., 0., 0.],\n",
              "         [0., 0., 0., 0., 0.],\n",
              "         [0., 0., 0., 0., 0.],\n",
              "         [0., 0., 0., 0., 0.]],\n",
              "\n",
              "        [[0., 0., 0., 0., 0.],\n",
              "         [0., 0., 0., 0., 0.],\n",
              "         [0., 0., 0., 0., 0.],\n",
              "         [0., 0., 0., 0., 0.]],\n",
              "\n",
              "        [[0., 0., 0., 0., 0.],\n",
              "         [0., 0., 0., 0., 0.],\n",
              "         [0., 0., 0., 0., 0.],\n",
              "         [0., 0., 0., 0., 0.]]],\n",
              "\n",
              "\n",
              "       [[[0., 0., 0., 0., 0.],\n",
              "         [0., 0., 0., 0., 0.],\n",
              "         [0., 0., 0., 0., 0.],\n",
              "         [0., 0., 0., 0., 0.]],\n",
              "\n",
              "        [[0., 0., 0., 0., 0.],\n",
              "         [0., 0., 0., 0., 0.],\n",
              "         [0., 0., 0., 0., 0.],\n",
              "         [0., 0., 0., 0., 0.]],\n",
              "\n",
              "        [[0., 0., 0., 0., 0.],\n",
              "         [0., 0., 0., 0., 0.],\n",
              "         [0., 0., 0., 0., 0.],\n",
              "         [0., 0., 0., 0., 0.]]]], dtype=float32)>"
            ]
          },
          "metadata": {
            "tags": []
          },
          "execution_count": 17
        }
      ]
    },
    {
      "cell_type": "code",
      "metadata": {
        "colab": {
          "base_uri": "https://localhost:8080/"
        },
        "id": "b2f_vJs-DPGL",
        "outputId": "4876b2bc-e970-4f11-8c95-53c983189e9d"
      },
      "source": [
        "r4[0]"
      ],
      "execution_count": null,
      "outputs": [
        {
          "output_type": "execute_result",
          "data": {
            "text/plain": [
              "<tf.Tensor: shape=(3, 4, 5), dtype=float32, numpy=\n",
              "array([[[0., 0., 0., 0., 0.],\n",
              "        [0., 0., 0., 0., 0.],\n",
              "        [0., 0., 0., 0., 0.],\n",
              "        [0., 0., 0., 0., 0.]],\n",
              "\n",
              "       [[0., 0., 0., 0., 0.],\n",
              "        [0., 0., 0., 0., 0.],\n",
              "        [0., 0., 0., 0., 0.],\n",
              "        [0., 0., 0., 0., 0.]],\n",
              "\n",
              "       [[0., 0., 0., 0., 0.],\n",
              "        [0., 0., 0., 0., 0.],\n",
              "        [0., 0., 0., 0., 0.],\n",
              "        [0., 0., 0., 0., 0.]]], dtype=float32)>"
            ]
          },
          "metadata": {
            "tags": []
          },
          "execution_count": 18
        }
      ]
    },
    {
      "cell_type": "code",
      "metadata": {
        "colab": {
          "base_uri": "https://localhost:8080/"
        },
        "id": "-XLYU-GDDVwI",
        "outputId": "f2f41ddb-1f1b-49e2-8732-b98dc7feb7d0"
      },
      "source": [
        "r4.shape,r4.ndim,tf.size(r4)"
      ],
      "execution_count": null,
      "outputs": [
        {
          "output_type": "execute_result",
          "data": {
            "text/plain": [
              "(TensorShape([2, 3, 4, 5]), 4, <tf.Tensor: shape=(), dtype=int32, numpy=120>)"
            ]
          },
          "metadata": {
            "tags": []
          },
          "execution_count": 19
        }
      ]
    },
    {
      "cell_type": "code",
      "metadata": {
        "colab": {
          "base_uri": "https://localhost:8080/"
        },
        "id": "6ZaDMVPeDhZj",
        "outputId": "6c8f6b52-b804-4678-ad65-e7f451acca04"
      },
      "source": [
        "print(r4.dtype)"
      ],
      "execution_count": null,
      "outputs": [
        {
          "output_type": "stream",
          "text": [
            "<dtype: 'float32'>\n"
          ],
          "name": "stdout"
        }
      ]
    },
    {
      "cell_type": "code",
      "metadata": {
        "colab": {
          "base_uri": "https://localhost:8080/"
        },
        "id": "Jrv78ceEEEOT",
        "outputId": "2cb4126b-3dc4-40dd-8cd8-eb875c4d727c"
      },
      "source": [
        "x = r4[:2,:2,:2,:2]\n",
        "x"
      ],
      "execution_count": null,
      "outputs": [
        {
          "output_type": "execute_result",
          "data": {
            "text/plain": [
              "<tf.Tensor: shape=(2, 2, 2, 2), dtype=float32, numpy=\n",
              "array([[[[0., 0.],\n",
              "         [0., 0.]],\n",
              "\n",
              "        [[0., 0.],\n",
              "         [0., 0.]]],\n",
              "\n",
              "\n",
              "       [[[0., 0.],\n",
              "         [0., 0.]],\n",
              "\n",
              "        [[0., 0.],\n",
              "         [0., 0.]]]], dtype=float32)>"
            ]
          },
          "metadata": {
            "tags": []
          },
          "execution_count": 21
        }
      ]
    },
    {
      "cell_type": "code",
      "metadata": {
        "colab": {
          "base_uri": "https://localhost:8080/"
        },
        "id": "gmd4643MFQOz",
        "outputId": "3cad396d-e72d-4152-f934-b9a799e79b41"
      },
      "source": [
        "r4[:1,:1,:1,:]"
      ],
      "execution_count": null,
      "outputs": [
        {
          "output_type": "execute_result",
          "data": {
            "text/plain": [
              "<tf.Tensor: shape=(1, 1, 1, 5), dtype=float32, numpy=array([[[[0., 0., 0., 0., 0.]]]], dtype=float32)>"
            ]
          },
          "metadata": {
            "tags": []
          },
          "execution_count": 22
        }
      ]
    },
    {
      "cell_type": "code",
      "metadata": {
        "colab": {
          "base_uri": "https://localhost:8080/"
        },
        "id": "A3r9WjAPFr2D",
        "outputId": "6bb79153-cff8-493f-ce34-8e087d369617"
      },
      "source": [
        "r2 = tf.constant([[1,2],[3,4]])\n",
        "r3 = r2[...,tf.newaxis]\n",
        "r3"
      ],
      "execution_count": null,
      "outputs": [
        {
          "output_type": "execute_result",
          "data": {
            "text/plain": [
              "<tf.Tensor: shape=(2, 2, 1), dtype=int32, numpy=\n",
              "array([[[1],\n",
              "        [2]],\n",
              "\n",
              "       [[3],\n",
              "        [4]]], dtype=int32)>"
            ]
          },
          "metadata": {
            "tags": []
          },
          "execution_count": 23
        }
      ]
    },
    {
      "cell_type": "code",
      "metadata": {
        "colab": {
          "base_uri": "https://localhost:8080/"
        },
        "id": "1PIIjoswG2C9",
        "outputId": "d944628c-84eb-4939-d483-c39609cd5987"
      },
      "source": [
        "t = tf.constant([[10,7],[3,4]])\n",
        "t+10"
      ],
      "execution_count": null,
      "outputs": [
        {
          "output_type": "execute_result",
          "data": {
            "text/plain": [
              "<tf.Tensor: shape=(2, 2), dtype=int32, numpy=\n",
              "array([[20, 17],\n",
              "       [13, 14]], dtype=int32)>"
            ]
          },
          "metadata": {
            "tags": []
          },
          "execution_count": 24
        }
      ]
    },
    {
      "cell_type": "code",
      "metadata": {
        "colab": {
          "base_uri": "https://localhost:8080/"
        },
        "id": "s87UDNHmHp82",
        "outputId": "993b9d85-104c-4d0d-aaa7-efba7784dda6"
      },
      "source": [
        "t*10"
      ],
      "execution_count": null,
      "outputs": [
        {
          "output_type": "execute_result",
          "data": {
            "text/plain": [
              "<tf.Tensor: shape=(2, 2), dtype=int32, numpy=\n",
              "array([[100,  70],\n",
              "       [ 30,  40]], dtype=int32)>"
            ]
          },
          "metadata": {
            "tags": []
          },
          "execution_count": 25
        }
      ]
    },
    {
      "cell_type": "code",
      "metadata": {
        "colab": {
          "base_uri": "https://localhost:8080/"
        },
        "id": "Zr9PknNvHxv7",
        "outputId": "b31ca31d-e626-4c6c-cf53-7edf83f839c8"
      },
      "source": [
        "tf.matmul(t,t)"
      ],
      "execution_count": null,
      "outputs": [
        {
          "output_type": "execute_result",
          "data": {
            "text/plain": [
              "<tf.Tensor: shape=(2, 2), dtype=int32, numpy=\n",
              "array([[121,  98],\n",
              "       [ 42,  37]], dtype=int32)>"
            ]
          },
          "metadata": {
            "tags": []
          },
          "execution_count": 26
        }
      ]
    },
    {
      "cell_type": "code",
      "metadata": {
        "colab": {
          "base_uri": "https://localhost:8080/"
        },
        "id": "KSWQLUNwJWxk",
        "outputId": "e26c8fbb-f4a7-457a-aac6-47cb069bc4f6"
      },
      "source": [
        "x = tf.constant([[1,2],[3,4],[5,6]])\n",
        "x"
      ],
      "execution_count": null,
      "outputs": [
        {
          "output_type": "execute_result",
          "data": {
            "text/plain": [
              "<tf.Tensor: shape=(3, 2), dtype=int32, numpy=\n",
              "array([[1, 2],\n",
              "       [3, 4],\n",
              "       [5, 6]], dtype=int32)>"
            ]
          },
          "metadata": {
            "tags": []
          },
          "execution_count": 27
        }
      ]
    },
    {
      "cell_type": "code",
      "metadata": {
        "id": "eOxeuvXQJy-F",
        "colab": {
          "base_uri": "https://localhost:8080/"
        },
        "outputId": "26a1efa7-60ce-4620-a075-b0b01132e114"
      },
      "source": [
        "y = tf.constant([[1,2,3],[4,5,6],[7,8,9]])\n",
        "tf.tensordot(tf.transpose(x),y,axes=1)"
      ],
      "execution_count": null,
      "outputs": [
        {
          "output_type": "execute_result",
          "data": {
            "text/plain": [
              "<tf.Tensor: shape=(2, 3), dtype=int32, numpy=\n",
              "array([[48, 57, 66],\n",
              "       [60, 72, 84]], dtype=int32)>"
            ]
          },
          "metadata": {
            "tags": []
          },
          "execution_count": 32
        }
      ]
    },
    {
      "cell_type": "code",
      "metadata": {
        "colab": {
          "base_uri": "https://localhost:8080/"
        },
        "id": "_OKuldkBHVbg",
        "outputId": "42350aa8-78e9-42b7-9895-af8474dca333"
      },
      "source": [
        "B = tf.constant([1.7,4,5])\n",
        "B.dtype"
      ],
      "execution_count": null,
      "outputs": [
        {
          "output_type": "execute_result",
          "data": {
            "text/plain": [
              "tf.float32"
            ]
          },
          "metadata": {
            "tags": []
          },
          "execution_count": 34
        }
      ]
    },
    {
      "cell_type": "code",
      "metadata": {
        "colab": {
          "base_uri": "https://localhost:8080/"
        },
        "id": "aDek8OquIV_5",
        "outputId": "0177c44f-8aa8-49cf-d1c7-d21c8aa95437"
      },
      "source": [
        "d = tf.cast(B,dtype=tf.float16)\n",
        "d"
      ],
      "execution_count": null,
      "outputs": [
        {
          "output_type": "execute_result",
          "data": {
            "text/plain": [
              "<tf.Tensor: shape=(3,), dtype=float16, numpy=array([1.7, 4. , 5. ], dtype=float16)>"
            ]
          },
          "metadata": {
            "tags": []
          },
          "execution_count": 36
        }
      ]
    },
    {
      "cell_type": "markdown",
      "metadata": {
        "id": "8fAK-yDNJJ1q"
      },
      "source": [
        "# Aggregations"
      ]
    },
    {
      "cell_type": "code",
      "metadata": {
        "colab": {
          "base_uri": "https://localhost:8080/"
        },
        "id": "3U2kmqFhJRvT",
        "outputId": "17ee78b2-eeaf-43c8-fb77-7946c6d28dd0"
      },
      "source": [
        "tf.abs(B)"
      ],
      "execution_count": null,
      "outputs": [
        {
          "output_type": "execute_result",
          "data": {
            "text/plain": [
              "<tf.Tensor: shape=(3,), dtype=float16, numpy=array([1.7, 4. , 5. ], dtype=float16)>"
            ]
          },
          "metadata": {
            "tags": []
          },
          "execution_count": 38
        }
      ]
    },
    {
      "cell_type": "code",
      "metadata": {
        "colab": {
          "base_uri": "https://localhost:8080/"
        },
        "id": "YJK1HA4yJuWV",
        "outputId": "a7498303-af28-49b2-faf9-447229449c98"
      },
      "source": [
        "e = tf.constant(np.random.randint(0,100,size=50))\n",
        "\n",
        "e"
      ],
      "execution_count": null,
      "outputs": [
        {
          "output_type": "execute_result",
          "data": {
            "text/plain": [
              "<tf.Tensor: shape=(50,), dtype=int64, numpy=\n",
              "array([30, 94, 40, 45, 92, 55, 44, 39, 98, 96,  0, 23, 76, 36, 51, 75, 81,\n",
              "       98, 79, 37, 20, 92, 93, 47, 56, 20, 78,  5, 29,  5, 18, 74, 42, 68,\n",
              "       96, 96, 64, 72, 26, 25,  3, 35,  7, 49, 99,  9, 62, 18, 23, 59])>"
            ]
          },
          "metadata": {
            "tags": []
          },
          "execution_count": 39
        }
      ]
    },
    {
      "cell_type": "code",
      "metadata": {
        "colab": {
          "base_uri": "https://localhost:8080/"
        },
        "id": "wJdkNp7cKD6O",
        "outputId": "b4b3f790-a88c-4d27-fd91-ec0b4c20cdfb"
      },
      "source": [
        "tf.reduce_min(e)"
      ],
      "execution_count": null,
      "outputs": [
        {
          "output_type": "execute_result",
          "data": {
            "text/plain": [
              "<tf.Tensor: shape=(), dtype=int64, numpy=0>"
            ]
          },
          "metadata": {
            "tags": []
          },
          "execution_count": 40
        }
      ]
    },
    {
      "cell_type": "code",
      "metadata": {
        "colab": {
          "base_uri": "https://localhost:8080/"
        },
        "id": "SEbxxagtKLJj",
        "outputId": "29d212e8-ecd1-4e78-9825-160237bd107f"
      },
      "source": [
        "tf.reduce_max(e)"
      ],
      "execution_count": null,
      "outputs": [
        {
          "output_type": "execute_result",
          "data": {
            "text/plain": [
              "<tf.Tensor: shape=(), dtype=int64, numpy=99>"
            ]
          },
          "metadata": {
            "tags": []
          },
          "execution_count": 41
        }
      ]
    },
    {
      "cell_type": "code",
      "metadata": {
        "colab": {
          "base_uri": "https://localhost:8080/"
        },
        "id": "ByERLYJmKO0E",
        "outputId": "d3d8e90a-5f9c-4596-9448-2438c16cb1aa"
      },
      "source": [
        "tf.reduce_mean(e)"
      ],
      "execution_count": null,
      "outputs": [
        {
          "output_type": "execute_result",
          "data": {
            "text/plain": [
              "<tf.Tensor: shape=(), dtype=int64, numpy=51>"
            ]
          },
          "metadata": {
            "tags": []
          },
          "execution_count": 42
        }
      ]
    },
    {
      "cell_type": "code",
      "metadata": {
        "colab": {
          "base_uri": "https://localhost:8080/"
        },
        "id": "s-KY4IiKKVon",
        "outputId": "ca58c199-a117-4f12-d9c8-7f0718be282e"
      },
      "source": [
        "tf.reduce_sum(e)"
      ],
      "execution_count": null,
      "outputs": [
        {
          "output_type": "execute_result",
          "data": {
            "text/plain": [
              "<tf.Tensor: shape=(), dtype=int64, numpy=2579>"
            ]
          },
          "metadata": {
            "tags": []
          },
          "execution_count": 43
        }
      ]
    },
    {
      "cell_type": "code",
      "metadata": {
        "colab": {
          "base_uri": "https://localhost:8080/"
        },
        "id": "M0XhJBLyK9SV",
        "outputId": "198fa856-8610-4d02-a31a-5894a935d8dd"
      },
      "source": [
        "import tensorflow_probability as tfp\n",
        "tf.math.reduce_variance(tf.cast(e,dtype=tf.float32))\n",
        "tf.math.reduce_std(tf.cast(e,dtype=tf.float32))"
      ],
      "execution_count": null,
      "outputs": [
        {
          "output_type": "execute_result",
          "data": {
            "text/plain": [
              "<tf.Tensor: shape=(), dtype=float32, numpy=30.620964>"
            ]
          },
          "metadata": {
            "tags": []
          },
          "execution_count": 52
        }
      ]
    },
    {
      "cell_type": "code",
      "metadata": {
        "colab": {
          "base_uri": "https://localhost:8080/"
        },
        "id": "VV56zQjWL_2I",
        "outputId": "fd0ff90c-5625-402e-e0b0-d2558976dfd3"
      },
      "source": [
        "F = tf.random.uniform(shape=[50])\n",
        "F"
      ],
      "execution_count": null,
      "outputs": [
        {
          "output_type": "execute_result",
          "data": {
            "text/plain": [
              "<tf.Tensor: shape=(50,), dtype=float32, numpy=\n",
              "array([0.7041279 , 0.42464495, 0.69981384, 0.67949176, 0.63805664,\n",
              "       0.05356944, 0.28893244, 0.13932025, 0.36029816, 0.15124178,\n",
              "       0.9034847 , 0.3545506 , 0.31182992, 0.8890538 , 0.52218604,\n",
              "       0.75245357, 0.13904512, 0.49873817, 0.39732945, 0.39994264,\n",
              "       0.9227296 , 0.18214393, 0.16563976, 0.6763464 , 0.03620076,\n",
              "       0.3651601 , 0.34487367, 0.8468087 , 0.8083445 , 0.33479428,\n",
              "       0.4720807 , 0.61773205, 0.9428867 , 0.62162197, 0.9719702 ,\n",
              "       0.49822927, 0.52122426, 0.49367356, 0.07944858, 0.29987395,\n",
              "       0.30330527, 0.6082425 , 0.50177   , 0.5509056 , 0.4214437 ,\n",
              "       0.3934945 , 0.41565824, 0.02095747, 0.22201443, 0.1562444 ],\n",
              "      dtype=float32)>"
            ]
          },
          "metadata": {
            "tags": []
          },
          "execution_count": 54
        }
      ]
    },
    {
      "cell_type": "code",
      "metadata": {
        "colab": {
          "base_uri": "https://localhost:8080/"
        },
        "id": "H2hd6WScMqTQ",
        "outputId": "83196d3e-13fa-45d5-f38a-02ee3f970c85"
      },
      "source": [
        "F[tf.argmax(F)]"
      ],
      "execution_count": null,
      "outputs": [
        {
          "output_type": "execute_result",
          "data": {
            "text/plain": [
              "<tf.Tensor: shape=(), dtype=float32, numpy=0.9719702>"
            ]
          },
          "metadata": {
            "tags": []
          },
          "execution_count": 56
        }
      ]
    },
    {
      "cell_type": "markdown",
      "metadata": {
        "id": "VEiGCLK2NvrN"
      },
      "source": [
        "# Squeezinf a tensor"
      ]
    },
    {
      "cell_type": "code",
      "metadata": {
        "colab": {
          "base_uri": "https://localhost:8080/"
        },
        "id": "8qz7JtLbNttm",
        "outputId": "1d0cdb83-d3d1-4631-9d03-173193877974"
      },
      "source": [
        "G = tf.constant(tf.random.uniform(shape=[50]),shape=(1,1,1,1,50))\n",
        "G"
      ],
      "execution_count": null,
      "outputs": [
        {
          "output_type": "execute_result",
          "data": {
            "text/plain": [
              "<tf.Tensor: shape=(1, 1, 1, 1, 50), dtype=float32, numpy=\n",
              "array([[[[[0.7619592 , 0.42692935, 0.00349176, 0.6136968 , 0.02899683,\n",
              "           0.7336937 , 0.5781324 , 0.3033092 , 0.8271463 , 0.2786157 ,\n",
              "           0.20009208, 0.17250466, 0.8275186 , 0.9774542 , 0.2585199 ,\n",
              "           0.05965519, 0.23504758, 0.6951952 , 0.35404193, 0.2759378 ,\n",
              "           0.5174984 , 0.02692926, 0.10287488, 0.9578552 , 0.80515254,\n",
              "           0.21705163, 0.48499703, 0.12514043, 0.45123196, 0.7203046 ,\n",
              "           0.76801276, 0.96232224, 0.2296766 , 0.57091904, 0.8843018 ,\n",
              "           0.94205904, 0.19204926, 0.47117364, 0.04906619, 0.08419156,\n",
              "           0.60605836, 0.12055576, 0.86670053, 0.20337677, 0.5663153 ,\n",
              "           0.9135598 , 0.34963405, 0.28941572, 0.48315942, 0.0947001 ]]]]],\n",
              "      dtype=float32)>"
            ]
          },
          "metadata": {
            "tags": []
          },
          "execution_count": 57
        }
      ]
    },
    {
      "cell_type": "code",
      "metadata": {
        "colab": {
          "base_uri": "https://localhost:8080/"
        },
        "id": "LWoIVctnOKPI",
        "outputId": "6473c92f-f6d2-4477-b3bc-a570f8514d5b"
      },
      "source": [
        "G_squ = tf.squeeze(G)\n",
        "G_squ"
      ],
      "execution_count": null,
      "outputs": [
        {
          "output_type": "execute_result",
          "data": {
            "text/plain": [
              "<tf.Tensor: shape=(50,), dtype=float32, numpy=\n",
              "array([0.7619592 , 0.42692935, 0.00349176, 0.6136968 , 0.02899683,\n",
              "       0.7336937 , 0.5781324 , 0.3033092 , 0.8271463 , 0.2786157 ,\n",
              "       0.20009208, 0.17250466, 0.8275186 , 0.9774542 , 0.2585199 ,\n",
              "       0.05965519, 0.23504758, 0.6951952 , 0.35404193, 0.2759378 ,\n",
              "       0.5174984 , 0.02692926, 0.10287488, 0.9578552 , 0.80515254,\n",
              "       0.21705163, 0.48499703, 0.12514043, 0.45123196, 0.7203046 ,\n",
              "       0.76801276, 0.96232224, 0.2296766 , 0.57091904, 0.8843018 ,\n",
              "       0.94205904, 0.19204926, 0.47117364, 0.04906619, 0.08419156,\n",
              "       0.60605836, 0.12055576, 0.86670053, 0.20337677, 0.5663153 ,\n",
              "       0.9135598 , 0.34963405, 0.28941572, 0.48315942, 0.0947001 ],\n",
              "      dtype=float32)>"
            ]
          },
          "metadata": {
            "tags": []
          },
          "execution_count": 58
        }
      ]
    },
    {
      "cell_type": "markdown",
      "metadata": {
        "id": "9Tn0hAUtOWce"
      },
      "source": [
        "# One hot bit coding"
      ]
    },
    {
      "cell_type": "code",
      "metadata": {
        "colab": {
          "base_uri": "https://localhost:8080/"
        },
        "id": "SVZE8zbZOZRI",
        "outputId": "e51933ec-5eed-4645-feba-2b389a6c71db"
      },
      "source": [
        "someList = [0,1,2,3,4]\n",
        "tf.one_hot(someList,7)"
      ],
      "execution_count": null,
      "outputs": [
        {
          "output_type": "execute_result",
          "data": {
            "text/plain": [
              "<tf.Tensor: shape=(5, 7), dtype=float32, numpy=\n",
              "array([[1., 0., 0., 0., 0., 0., 0.],\n",
              "       [0., 1., 0., 0., 0., 0., 0.],\n",
              "       [0., 0., 1., 0., 0., 0., 0.],\n",
              "       [0., 0., 0., 1., 0., 0., 0.],\n",
              "       [0., 0., 0., 0., 1., 0., 0.]], dtype=float32)>"
            ]
          },
          "metadata": {
            "tags": []
          },
          "execution_count": 63
        }
      ]
    },
    {
      "cell_type": "code",
      "metadata": {
        "colab": {
          "base_uri": "https://localhost:8080/"
        },
        "id": "c8Mv8MPyO2ZN",
        "outputId": "bb53b1f2-2574-42b1-d50f-e3df5962ac69"
      },
      "source": [
        "tf.one_hot(someList,5, on_value =\"Yess\",off_value=\"Nooo\")"
      ],
      "execution_count": null,
      "outputs": [
        {
          "output_type": "execute_result",
          "data": {
            "text/plain": [
              "<tf.Tensor: shape=(5, 4), dtype=string, numpy=\n",
              "array([[b'Yess', b'Nooo', b'Nooo', b'Nooo'],\n",
              "       [b'Nooo', b'Yess', b'Nooo', b'Nooo'],\n",
              "       [b'Nooo', b'Nooo', b'Yess', b'Nooo'],\n",
              "       [b'Nooo', b'Nooo', b'Nooo', b'Yess'],\n",
              "       [b'Nooo', b'Nooo', b'Nooo', b'Nooo']], dtype=object)>"
            ]
          },
          "metadata": {
            "tags": []
          },
          "execution_count": 60
        }
      ]
    },
    {
      "cell_type": "markdown",
      "metadata": {
        "id": "-rKg4LxWPZn8"
      },
      "source": [
        "#Sq, log sqrt"
      ]
    },
    {
      "cell_type": "code",
      "metadata": {
        "colab": {
          "base_uri": "https://localhost:8080/"
        },
        "id": "GsQAbb2aPdKI",
        "outputId": "e2ce5959-8fea-46f5-e7f6-5080a7a56877"
      },
      "source": [
        "H = tf.range(1,20)\n",
        "H"
      ],
      "execution_count": null,
      "outputs": [
        {
          "output_type": "execute_result",
          "data": {
            "text/plain": [
              "<tf.Tensor: shape=(19,), dtype=int32, numpy=\n",
              "array([ 1,  2,  3,  4,  5,  6,  7,  8,  9, 10, 11, 12, 13, 14, 15, 16, 17,\n",
              "       18, 19], dtype=int32)>"
            ]
          },
          "metadata": {
            "tags": []
          },
          "execution_count": 68
        }
      ]
    },
    {
      "cell_type": "code",
      "metadata": {
        "colab": {
          "base_uri": "https://localhost:8080/"
        },
        "id": "xICT7FXIPzO1",
        "outputId": "8f3562c8-7bf8-44ee-fe82-c15c207da290"
      },
      "source": [
        "tf.square(H)"
      ],
      "execution_count": null,
      "outputs": [
        {
          "output_type": "execute_result",
          "data": {
            "text/plain": [
              "<tf.Tensor: shape=(19,), dtype=int32, numpy=\n",
              "array([  1,   4,   9,  16,  25,  36,  49,  64,  81, 100, 121, 144, 169,\n",
              "       196, 225, 256, 289, 324, 361], dtype=int32)>"
            ]
          },
          "metadata": {
            "tags": []
          },
          "execution_count": 69
        }
      ]
    },
    {
      "cell_type": "code",
      "metadata": {
        "colab": {
          "base_uri": "https://localhost:8080/"
        },
        "id": "LPfUn5DJP2xl",
        "outputId": "d0b91406-845c-4f50-cd6c-a80a439bdb6c"
      },
      "source": [
        "tf.sqrt(tf.cast(H,tf.float32))"
      ],
      "execution_count": null,
      "outputs": [
        {
          "output_type": "execute_result",
          "data": {
            "text/plain": [
              "<tf.Tensor: shape=(19,), dtype=float32, numpy=\n",
              "array([0.99999994, 1.4142134 , 1.7320508 , 1.9999999 , 2.236068  ,\n",
              "       2.4494896 , 2.6457512 , 2.8284268 , 2.9999998 , 3.1622777 ,\n",
              "       3.3166244 , 3.4641016 , 3.6055508 , 3.7416573 , 3.8729832 ,\n",
              "       3.9999998 , 4.1231055 , 4.2426405 , 4.358899  ], dtype=float32)>"
            ]
          },
          "metadata": {
            "tags": []
          },
          "execution_count": 71
        }
      ]
    },
    {
      "cell_type": "code",
      "metadata": {
        "colab": {
          "base_uri": "https://localhost:8080/"
        },
        "id": "YLNNYSUxQEZI",
        "outputId": "24d435d9-4cd4-4ed0-d128-d23d048219d1"
      },
      "source": [
        "tf.math.log(tf.cast(H,tf.float32))"
      ],
      "execution_count": null,
      "outputs": [
        {
          "output_type": "execute_result",
          "data": {
            "text/plain": [
              "<tf.Tensor: shape=(19,), dtype=float32, numpy=\n",
              "array([0.       , 0.6931472, 1.0986123, 1.3862944, 1.609438 , 1.7917595,\n",
              "       1.9459102, 2.0794415, 2.1972246, 2.3025851, 2.3978953, 2.4849067,\n",
              "       2.5649493, 2.6390574, 2.7080503, 2.7725887, 2.8332133, 2.8903718,\n",
              "       2.944439 ], dtype=float32)>"
            ]
          },
          "metadata": {
            "tags": []
          },
          "execution_count": 72
        }
      ]
    },
    {
      "cell_type": "markdown",
      "metadata": {
        "id": "EYZDdAypQUhg"
      },
      "source": [
        "#Tensor and Numpy"
      ]
    },
    {
      "cell_type": "code",
      "metadata": {
        "colab": {
          "base_uri": "https://localhost:8080/"
        },
        "id": "tX-2jw2IQXbW",
        "outputId": "c69847b4-cd8d-4be8-dc5b-fe461e4cfa5e"
      },
      "source": [
        "J = tf.constant(np.array([3,4,5,6]))\n",
        "J"
      ],
      "execution_count": null,
      "outputs": [
        {
          "output_type": "execute_result",
          "data": {
            "text/plain": [
              "<tf.Tensor: shape=(4,), dtype=int64, numpy=array([3, 4, 5, 6])>"
            ]
          },
          "metadata": {
            "tags": []
          },
          "execution_count": 73
        }
      ]
    },
    {
      "cell_type": "code",
      "metadata": {
        "colab": {
          "base_uri": "https://localhost:8080/"
        },
        "id": "lJz9tdRsQkmF",
        "outputId": "a789fa14-5127-442a-d737-a168630be325"
      },
      "source": [
        "np.array(J)\n"
      ],
      "execution_count": null,
      "outputs": [
        {
          "output_type": "execute_result",
          "data": {
            "text/plain": [
              "array([3, 4, 5, 6])"
            ]
          },
          "metadata": {
            "tags": []
          },
          "execution_count": 74
        }
      ]
    },
    {
      "cell_type": "markdown",
      "metadata": {
        "id": "pz1AzsjQRKox"
      },
      "source": [
        "# Access to GPU"
      ]
    },
    {
      "cell_type": "code",
      "metadata": {
        "colab": {
          "base_uri": "https://localhost:8080/"
        },
        "id": "jud2S3dRRbS5",
        "outputId": "497c859c-16df-4737-86a9-99a92ad487aa"
      },
      "source": [
        "import tensorflow as tf\n",
        "tf.config.list_physical_devices()"
      ],
      "execution_count": null,
      "outputs": [
        {
          "output_type": "execute_result",
          "data": {
            "text/plain": [
              "[PhysicalDevice(name='/physical_device:CPU:0', device_type='CPU'),\n",
              " PhysicalDevice(name='/physical_device:GPU:0', device_type='GPU')]"
            ]
          },
          "metadata": {
            "tags": []
          },
          "execution_count": 2
        }
      ]
    },
    {
      "cell_type": "code",
      "metadata": {
        "colab": {
          "base_uri": "https://localhost:8080/"
        },
        "id": "S-RUyMRZRnVV",
        "outputId": "ce960eb0-2625-4e79-b6f5-bc07c37dceaa"
      },
      "source": [
        "!nvidia-smi"
      ],
      "execution_count": null,
      "outputs": [
        {
          "output_type": "stream",
          "text": [
            "Wed May 19 11:00:39 2021       \n",
            "+-----------------------------------------------------------------------------+\n",
            "| NVIDIA-SMI 465.19.01    Driver Version: 460.32.03    CUDA Version: 11.2     |\n",
            "|-------------------------------+----------------------+----------------------+\n",
            "| GPU  Name        Persistence-M| Bus-Id        Disp.A | Volatile Uncorr. ECC |\n",
            "| Fan  Temp  Perf  Pwr:Usage/Cap|         Memory-Usage | GPU-Util  Compute M. |\n",
            "|                               |                      |               MIG M. |\n",
            "|===============================+======================+======================|\n",
            "|   0  Tesla T4            Off  | 00000000:00:04.0 Off |                    0 |\n",
            "| N/A   50C    P8     9W /  70W |      3MiB / 15109MiB |      0%      Default |\n",
            "|                               |                      |                  N/A |\n",
            "+-------------------------------+----------------------+----------------------+\n",
            "                                                                               \n",
            "+-----------------------------------------------------------------------------+\n",
            "| Processes:                                                                  |\n",
            "|  GPU   GI   CI        PID   Type   Process name                  GPU Memory |\n",
            "|        ID   ID                                                   Usage      |\n",
            "|=============================================================================|\n",
            "|  No running processes found                                                 |\n",
            "+-----------------------------------------------------------------------------+\n"
          ],
          "name": "stdout"
        }
      ]
    },
    {
      "cell_type": "code",
      "metadata": {
        "id": "96UI-CClSVge"
      },
      "source": [
        ""
      ],
      "execution_count": null,
      "outputs": []
    }
  ]
}