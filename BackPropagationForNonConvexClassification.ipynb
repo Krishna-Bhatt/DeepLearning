{
  "nbformat": 4,
  "nbformat_minor": 0,
  "metadata": {
    "colab": {
      "name": "BackPropagationForNonConvexClassification.ipynb",
      "provenance": [],
      "collapsed_sections": [],
      "authorship_tag": "ABX9TyMsvAFCmO87ZcZEnlBMJOJ9",
      "include_colab_link": true
    },
    "kernelspec": {
      "name": "python3",
      "display_name": "Python 3"
    },
    "language_info": {
      "name": "python"
    }
  },
  "cells": [
    {
      "cell_type": "markdown",
      "metadata": {
        "id": "view-in-github",
        "colab_type": "text"
      },
      "source": [
        "<a href=\"https://colab.research.google.com/github/Krishna-Bhatt/DeepLearning/blob/main/BackPropagationForNonConvexClassification.ipynb\" target=\"_parent\"><img src=\"https://colab.research.google.com/assets/colab-badge.svg\" alt=\"Open In Colab\"/></a>"
      ]
    },
    {
      "cell_type": "code",
      "execution_count": 9,
      "metadata": {
        "id": "I9Lmlg_qELUm"
      },
      "outputs": [],
      "source": [
        "import numpy as np\n",
        "import matplotlib.pylab as plt\n",
        "from pandas import read_csv\n",
        "from sklearn import preprocessing\n",
        "import matplotlib\n",
        "import matplotlib.pyplot as plt"
      ]
    },
    {
      "cell_type": "code",
      "source": [
        "from google.colab import drive\n",
        "drive.mount('/content/drive/')"
      ],
      "metadata": {
        "colab": {
          "base_uri": "https://localhost:8080/"
        },
        "id": "dY-MOyvcEvmd",
        "outputId": "cc10c8de-49a4-4612-fe11-31777d59e4b6"
      },
      "execution_count": 3,
      "outputs": [
        {
          "output_type": "stream",
          "name": "stdout",
          "text": [
            "Mounted at /content/drive/\n"
          ]
        }
      ]
    },
    {
      "cell_type": "code",
      "source": [
        "class ANN:\n",
        "    def __init__(self, layers_size):\n",
        "        self.layers_size = layers_size\n",
        "        self.parameters = {}\n",
        "        self.L = len(self.layers_size)\n",
        "        self.n = 0\n",
        "        self.costs = []\n",
        "\n",
        "    def sigmoid(self, Z):\n",
        "        return 1 / (1 + np.exp(-Z))\n",
        "\n",
        "    def initialize_parameters(self):\n",
        "        np.random.seed(1)\n",
        "\n",
        "        for l in range(1, len(self.layers_size)):\n",
        "            self.parameters[\"W\" + str(l)] = np.random.randn(self.layers_size[l], self.layers_size[l - 1]) / np.sqrt(\n",
        "                self.layers_size[l - 1])\n",
        "            self.parameters[\"b\" + str(l)] = np.zeros((self.layers_size[l], 1))\n",
        "\n",
        "    def forward(self, X):\n",
        "        store = {}\n",
        "\n",
        "        A = X.T\n",
        "        for l in range(self.L - 1):\n",
        "            Z = self.parameters[\"W\" + str(l + 1)].dot(A) + self.parameters[\"b\" + str(l + 1)]\n",
        "            A = self.sigmoid(Z)\n",
        "            store[\"A\" + str(l + 1)] = A\n",
        "            store[\"W\" + str(l + 1)] = self.parameters[\"W\" + str(l + 1)]\n",
        "            store[\"Z\" + str(l + 1)] = Z\n",
        "\n",
        "        Z = self.parameters[\"W\" + str(self.L)].dot(A) + self.parameters[\"b\" + str(self.L)]\n",
        "        A = self.sigmoid(Z)\n",
        "        store[\"A\" + str(self.L)] = A\n",
        "        store[\"W\" + str(self.L)] = self.parameters[\"W\" + str(self.L)]\n",
        "        store[\"Z\" + str(self.L)] = Z\n",
        "\n",
        "        return A, store\n",
        "\n",
        "    def sigmoid_derivative(self, Z):\n",
        "        s = 1 / (1 + np.exp(-Z))\n",
        "        return s * (1 - s)\n",
        "\n",
        "    def backward(self, X, Y, store):\n",
        "\n",
        "        derivatives = {}\n",
        "\n",
        "        store[\"A0\"] = X.T\n",
        "\n",
        "        A = store[\"A\" + str(self.L)]\n",
        "        dA = -np.divide(Y, A) + np.divide(1 - Y, 1 - A)\n",
        "\n",
        "        dZ = dA * self.sigmoid_derivative(store[\"Z\" + str(self.L)])\n",
        "        dW = dZ.dot(store[\"A\" + str(self.L - 1)].T) / self.n\n",
        "        db = np.sum(dZ, axis=1, keepdims=True) / self.n\n",
        "        dAPrev = store[\"W\" + str(self.L)].T.dot(dZ)\n",
        "\n",
        "        derivatives[\"dW\" + str(self.L)] = dW\n",
        "        derivatives[\"db\" + str(self.L)] = db\n",
        "\n",
        "        for l in range(self.L - 1, 0, -1):\n",
        "            dZ = dAPrev * self.sigmoid_derivative(store[\"Z\" + str(l)])\n",
        "            dW = 1. / self.n * dZ.dot(store[\"A\" + str(l - 1)].T)\n",
        "            db = 1. / self.n * np.sum(dZ, axis=1, keepdims=True)\n",
        "            if l > 1:\n",
        "                dAPrev = store[\"W\" + str(l)].T.dot(dZ)\n",
        "\n",
        "            derivatives[\"dW\" + str(l)] = dW\n",
        "            derivatives[\"db\" + str(l)] = db\n",
        "\n",
        "        return derivatives\n",
        "\n",
        "    def fit(self, X, Y, learning_rate=0.01, n_iterations=2500):\n",
        "        np.random.seed(1)\n",
        "\n",
        "        self.n = X.shape[0]\n",
        "\n",
        "        self.layers_size.insert(0, X.shape[1])\n",
        "\n",
        "        self.initialize_parameters()\n",
        "        for loop in range(n_iterations):\n",
        "            A, store = self.forward(X)\n",
        "            cost = np.squeeze(-(Y.dot(np.log(A.T)) + (1 - Y).dot(np.log(1 - A.T))) / self.n)\n",
        "            derivatives = self.backward(X, Y, store)\n",
        "\n",
        "            for l in range(1, self.L + 1):\n",
        "                self.parameters[\"W\" + str(l)] = self.parameters[\"W\" + str(l)] - learning_rate * derivatives[\n",
        "                    \"dW\" + str(l)]\n",
        "                self.parameters[\"b\" + str(l)] = self.parameters[\"b\" + str(l)] - learning_rate * derivatives[\n",
        "                    \"db\" + str(l)]\n",
        "\n",
        "            if loop % 10 == 0:\n",
        "                \n",
        "                self.costs.append(cost)\n",
        "        print('Cost',cost)\n",
        "    def predict(self, X, Y):\n",
        "        A, cache = self.forward(X)\n",
        "        n = X.shape[0]\n",
        "        p = np.zeros((1, n))\n",
        "\n",
        "        for i in range(0, A.shape[1]):\n",
        "            if A[0, i] > 0.5:\n",
        "                p[0, i] = 1\n",
        "            else:\n",
        "                p[0, i] = 0\n",
        "\n",
        "        print(\"Accuracy: \" + str(np.sum((p == Y) / n)))\n",
        "\n",
        "    def plot_cost(self):\n",
        "        plt.figure()\n",
        "        plt.plot(np.arange(len(self.costs)), self.costs)\n",
        "        plt.xlabel(\"epochs\")\n",
        "        plt.ylabel(\"cost\")\n",
        "        plt.show()"
      ],
      "metadata": {
        "id": "hbF5MS0VEO0i"
      },
      "execution_count": 4,
      "outputs": []
    },
    {
      "cell_type": "code",
      "source": [
        "url = \"/content/drive/MyDrive/file.csv\"\n",
        "data = np.array(read_csv(url))"
      ],
      "metadata": {
        "id": "i_sL4aQ3EaFa"
      },
      "execution_count": 5,
      "outputs": []
    },
    {
      "cell_type": "code",
      "source": [
        "print(\"Data = \", data)\n",
        "# normalize the data attributes\n",
        "normalized = preprocessing.normalize(data)\n",
        "print(\"Normalized Data = \", normalized)"
      ],
      "metadata": {
        "colab": {
          "base_uri": "https://localhost:8080/"
        },
        "id": "8YHStsLSAJ4A",
        "outputId": "3e1db8a6-a6d3-4e46-dda4-ddf661d62a11"
      },
      "execution_count": 6,
      "outputs": [
        {
          "output_type": "stream",
          "name": "stdout",
          "text": [
            "Data =  [[-0.1  1.9  0. ]\n",
            " [-0.1  1.1  0. ]\n",
            " [-0.5  1.8  0. ]\n",
            " [-0.5  1.2  0. ]\n",
            " [-1.   1.5  0. ]\n",
            " [-1.   1.   0. ]\n",
            " [-1.7  0.5  0. ]\n",
            " [-1.2  0.5  0. ]\n",
            " [-1.9  0.   0. ]\n",
            " [-1.1  0.   0. ]\n",
            " [ 0.1 -0.1  0. ]\n",
            " [ 0.5 -0.1  0. ]\n",
            " [ 0.1 -1.   0. ]\n",
            " [ 0.9 -1.   0. ]\n",
            " [ 0.8 -1.1  0. ]\n",
            " [ 0.  -1.9  0. ]\n",
            " [ 0.5 -1.8  0. ]\n",
            " [-1.8 -1.   0. ]\n",
            " [-1.5 -1.5  0. ]\n",
            " [-1.  -1.8  0. ]\n",
            " [-0.5 -1.9  0. ]\n",
            " [-1.  -0.5  0. ]\n",
            " [-1.5  1.   0. ]\n",
            " [ 0.   0.   1. ]\n",
            " [ 0.  -0.1  1. ]\n",
            " [ 0.  -0.9  1. ]\n",
            " [-0.9  0.7  1. ]\n",
            " [-0.5 -0.9  1. ]\n",
            " [ 0.1 -2.1  1. ]\n",
            " [-1.   0.   1. ]\n",
            " [ 0.1 -2.9  1. ]\n",
            " [ 1.  -1.9  1. ]\n",
            " [ 1.  -2.7  1. ]\n",
            " [ 1.5  0.8  1. ]\n",
            " [ 1.5 -2.5  1. ]\n",
            " [ 1.9 -1.   1. ]\n",
            " [ 1.1 -1.   1. ]\n",
            " [ 0.5  1.   1. ]\n",
            " [ 0.5  0.1  1. ]\n",
            " [ 1.  -0.5  1. ]\n",
            " [-0.5  1.5  0. ]\n",
            " [-1.   1.2  0. ]\n",
            " [-1.5  0.   0. ]\n",
            " [-1.  -1.   0. ]\n",
            " [-0.5 -1.5  0. ]\n",
            " [ 0.5 -1.   0. ]\n",
            " [ 0.5 -1.8  0. ]\n",
            " [-0.5 -0.5  1. ]\n",
            " [-0.8 -0.8  1. ]\n",
            " [ 1.5  0.   1. ]\n",
            " [ 1.5 -1.   1. ]\n",
            " [ 0.5 -2.5  1. ]\n",
            " [-0.5  0.   1. ]\n",
            " [ 0.5  0.5  1. ]]\n",
            "Normalized Data =  [[-0.05255883  0.99861783  0.        ]\n",
            " [-0.09053575  0.99589321  0.        ]\n",
            " [-0.26764386  0.96351791  0.        ]\n",
            " [-0.38461538  0.92307692  0.        ]\n",
            " [-0.5547002   0.83205029  0.        ]\n",
            " [-0.70710678  0.70710678  0.        ]\n",
            " [-0.9593655   0.28216632  0.        ]\n",
            " [-0.92307692  0.38461538  0.        ]\n",
            " [-1.          0.          0.        ]\n",
            " [-1.          0.          0.        ]\n",
            " [ 0.70710678 -0.70710678  0.        ]\n",
            " [ 0.98058068 -0.19611614  0.        ]\n",
            " [ 0.09950372 -0.99503719  0.        ]\n",
            " [ 0.66896473 -0.74329415  0.        ]\n",
            " [ 0.5881717  -0.80873608  0.        ]\n",
            " [ 0.         -1.          0.        ]\n",
            " [ 0.26764386 -0.96351791  0.        ]\n",
            " [-0.87415728 -0.48564293  0.        ]\n",
            " [-0.70710678 -0.70710678  0.        ]\n",
            " [-0.48564293 -0.87415728  0.        ]\n",
            " [-0.2544933  -0.96707454  0.        ]\n",
            " [-0.89442719 -0.4472136   0.        ]\n",
            " [-0.83205029  0.5547002   0.        ]\n",
            " [ 0.          0.          1.        ]\n",
            " [ 0.         -0.09950372  0.99503719]\n",
            " [ 0.         -0.66896473  0.74329415]\n",
            " [-0.59344243  0.46156633  0.65938047]\n",
            " [-0.34836651 -0.62705971  0.69673301]\n",
            " [ 0.04295368 -0.90202724  0.42953678]\n",
            " [-0.70710678  0.          0.70710678]\n",
            " [ 0.03258176 -0.94487106  0.32581761]\n",
            " [ 0.42220033 -0.80218063  0.42220033]\n",
            " [ 0.32808936 -0.88584127  0.32808936]\n",
            " [ 0.76053019  0.4056161   0.50702013]\n",
            " [ 0.48666426 -0.81110711  0.32444284]\n",
            " [ 0.80218063 -0.42220033  0.42220033]\n",
            " [ 0.61396013 -0.55814557  0.55814557]\n",
            " [ 0.33333333  0.66666667  0.66666667]\n",
            " [ 0.4454354   0.08908708  0.89087081]\n",
            " [ 0.66666667 -0.33333333  0.66666667]\n",
            " [-0.31622777  0.9486833   0.        ]\n",
            " [-0.6401844   0.76822128  0.        ]\n",
            " [-1.          0.          0.        ]\n",
            " [-0.70710678 -0.70710678  0.        ]\n",
            " [-0.31622777 -0.9486833   0.        ]\n",
            " [ 0.4472136  -0.89442719  0.        ]\n",
            " [ 0.26764386 -0.96351791  0.        ]\n",
            " [-0.40824829 -0.40824829  0.81649658]\n",
            " [-0.52981294 -0.52981294  0.66226618]\n",
            " [ 0.83205029  0.          0.5547002 ]\n",
            " [ 0.72760688 -0.48507125  0.48507125]\n",
            " [ 0.18257419 -0.91287093  0.36514837]\n",
            " [-0.4472136   0.          0.89442719]\n",
            " [ 0.40824829  0.40824829  0.81649658]]\n"
          ]
        }
      ]
    },
    {
      "cell_type": "code",
      "source": [
        "X,y = data[0:41,:2],data[0:41,2]\n",
        "X_test, y_test = data[41:,:2],data[41:,2]"
      ],
      "metadata": {
        "id": "oMW_rfX9FGzd"
      },
      "execution_count": 7,
      "outputs": []
    },
    {
      "cell_type": "code",
      "source": [
        "fig = plt.figure(figsize=(8,8))\n",
        "plt.title('Training data')\n",
        "plt.scatter(X[:,0],X[:,1], c=y, cmap=matplotlib.colors.ListedColormap(['red','blue']))"
      ],
      "metadata": {
        "colab": {
          "base_uri": "https://localhost:8080/",
          "height": 516
        },
        "id": "clCnzQ8l6gpa",
        "outputId": "6cefcf9a-8852-4782-a61f-be0f3aaa9239"
      },
      "execution_count": 10,
      "outputs": [
        {
          "output_type": "execute_result",
          "data": {
            "text/plain": [
              "<matplotlib.collections.PathCollection at 0x7ff9d6e963d0>"
            ]
          },
          "metadata": {},
          "execution_count": 10
        },
        {
          "output_type": "display_data",
          "data": {
            "image/png": "[encoded data removed]",
            "text/plain": [
              "<Figure size 576x576 with 1 Axes>"
            ]
          },
          "metadata": {
            "needs_background": "light"
          }
        }
      ]
    },
    {
      "cell_type": "code",
      "source": [
        "if __name__ == '__main__':\n",
        "    train_x, train_y, test_x, test_y = X,y,X_test,y_test\n",
        "    print(\"train_x's shape: \" + str(train_x.shape))\n",
        "    print(\"test_x's shape: \" + str(test_x.shape))\n",
        "\n",
        "    layers_dims = [10,10,10,1]\n",
        "\n",
        "    ann = ANN(layers_dims)\n",
        "    ann.fit(train_x, train_y, learning_rate=0.999, n_iterations=3000)\n",
        "    ann.predict(train_x, train_y)\n",
        "    ann.predict(test_x, test_y)\n",
        "    ann.plot_cost()"
      ],
      "metadata": {
        "id": "ypbtM7IxErKC"
      },
      "execution_count": null,
      "outputs": []
    },
    {
      "cell_type": "code",
      "source": [
        ""
      ],
      "metadata": {
        "id": "KT_y7SNw_tGn"
      },
      "execution_count": null,
      "outputs": []
    }
  ]
}