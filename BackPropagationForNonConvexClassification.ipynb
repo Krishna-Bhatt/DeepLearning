{
  "nbformat": 4,
  "nbformat_minor": 0,
  "metadata": {
    "colab": {
      "name": "BP.ipynb",
      "provenance": [],
      "collapsed_sections": [],
      "authorship_tag": "ABX9TyMCcpDHRcEJ3LvuxDQL6LwY",
      "include_colab_link": true
    },
    "kernelspec": {
      "name": "python3",
      "display_name": "Python 3"
    },
    "language_info": {
      "name": "python"
    }
  },
  "cells": [
    {
      "cell_type": "markdown",
      "metadata": {
        "id": "view-in-github",
        "colab_type": "text"
      },
      "source": [
        "<a href=\"https://colab.research.google.com/github/Krishna-Bhatt/DeepLearning/blob/main/BackPropagationForNonConvexClassification.ipynb\" target=\"_parent\"><img src=\"https://colab.research.google.com/assets/colab-badge.svg\" alt=\"Open In Colab\"/></a>"
      ]
    },
    {
      "cell_type": "code",
      "execution_count": 67,
      "metadata": {
        "id": "I9Lmlg_qELUm"
      },
      "outputs": [],
      "source": [
        "import numpy as np\n",
        "import matplotlib.pylab as plt\n",
        "from pandas import read_csv\n",
        "from sklearn import preprocessing"
      ]
    },
    {
      "cell_type": "code",
      "source": [
        "from google.colab import drive\n",
        "drive.mount('/content/drive/')"
      ],
      "metadata": {
        "colab": {
          "base_uri": "https://localhost:8080/",
          "height": 0
        },
        "id": "dY-MOyvcEvmd",
        "outputId": "9fe7064f-3f9e-42c0-8317-92a2cb54bd12"
      },
      "execution_count": 2,
      "outputs": [
        {
          "output_type": "stream",
          "name": "stdout",
          "text": [
            "Mounted at /content/drive/\n"
          ]
        }
      ]
    },
    {
      "cell_type": "code",
      "source": [
        "class ANN:\n",
        "    def __init__(self, layers_size):\n",
        "        self.layers_size = layers_size\n",
        "        self.parameters = {}\n",
        "        self.L = len(self.layers_size)\n",
        "        self.n = 0\n",
        "        self.costs = []\n",
        "\n",
        "    def sigmoid(self, Z):\n",
        "        return 1 / (1 + np.exp(-Z))\n",
        "\n",
        "    def initialize_parameters(self):\n",
        "        np.random.seed(1)\n",
        "\n",
        "        for l in range(1, len(self.layers_size)):\n",
        "            self.parameters[\"W\" + str(l)] = np.random.randn(self.layers_size[l], self.layers_size[l - 1]) / np.sqrt(\n",
        "                self.layers_size[l - 1])\n",
        "            self.parameters[\"b\" + str(l)] = np.zeros((self.layers_size[l], 1))\n",
        "\n",
        "    def forward(self, X):\n",
        "        store = {}\n",
        "\n",
        "        A = X.T\n",
        "        for l in range(self.L - 1):\n",
        "            Z = self.parameters[\"W\" + str(l + 1)].dot(A) + self.parameters[\"b\" + str(l + 1)]\n",
        "            A = self.sigmoid(Z)\n",
        "            store[\"A\" + str(l + 1)] = A\n",
        "            store[\"W\" + str(l + 1)] = self.parameters[\"W\" + str(l + 1)]\n",
        "            store[\"Z\" + str(l + 1)] = Z\n",
        "\n",
        "        Z = self.parameters[\"W\" + str(self.L)].dot(A) + self.parameters[\"b\" + str(self.L)]\n",
        "        A = self.sigmoid(Z)\n",
        "        store[\"A\" + str(self.L)] = A\n",
        "        store[\"W\" + str(self.L)] = self.parameters[\"W\" + str(self.L)]\n",
        "        store[\"Z\" + str(self.L)] = Z\n",
        "\n",
        "        return A, store\n",
        "\n",
        "    def sigmoid_derivative(self, Z):\n",
        "        s = 1 / (1 + np.exp(-Z))\n",
        "        return s * (1 - s)\n",
        "\n",
        "    def backward(self, X, Y, store):\n",
        "\n",
        "        derivatives = {}\n",
        "\n",
        "        store[\"A0\"] = X.T\n",
        "\n",
        "        A = store[\"A\" + str(self.L)]\n",
        "        dA = -np.divide(Y, A) + np.divide(1 - Y, 1 - A)\n",
        "\n",
        "        dZ = dA * self.sigmoid_derivative(store[\"Z\" + str(self.L)])\n",
        "        dW = dZ.dot(store[\"A\" + str(self.L - 1)].T) / self.n\n",
        "        db = np.sum(dZ, axis=1, keepdims=True) / self.n\n",
        "        dAPrev = store[\"W\" + str(self.L)].T.dot(dZ)\n",
        "\n",
        "        derivatives[\"dW\" + str(self.L)] = dW\n",
        "        derivatives[\"db\" + str(self.L)] = db\n",
        "\n",
        "        for l in range(self.L - 1, 0, -1):\n",
        "            dZ = dAPrev * self.sigmoid_derivative(store[\"Z\" + str(l)])\n",
        "            dW = 1. / self.n * dZ.dot(store[\"A\" + str(l - 1)].T)\n",
        "            db = 1. / self.n * np.sum(dZ, axis=1, keepdims=True)\n",
        "            if l > 1:\n",
        "                dAPrev = store[\"W\" + str(l)].T.dot(dZ)\n",
        "\n",
        "            derivatives[\"dW\" + str(l)] = dW\n",
        "            derivatives[\"db\" + str(l)] = db\n",
        "\n",
        "        return derivatives\n",
        "\n",
        "    def fit(self, X, Y, learning_rate=0.01, n_iterations=2500):\n",
        "        np.random.seed(1)\n",
        "\n",
        "        self.n = X.shape[0]\n",
        "\n",
        "        self.layers_size.insert(0, X.shape[1])\n",
        "\n",
        "        self.initialize_parameters()\n",
        "        for loop in range(n_iterations):\n",
        "            A, store = self.forward(X)\n",
        "            cost = np.squeeze(-(Y.dot(np.log(A.T)) + (1 - Y).dot(np.log(1 - A.T))) / self.n)\n",
        "            derivatives = self.backward(X, Y, store)\n",
        "\n",
        "            for l in range(1, self.L + 1):\n",
        "                self.parameters[\"W\" + str(l)] = self.parameters[\"W\" + str(l)] - learning_rate * derivatives[\n",
        "                    \"dW\" + str(l)]\n",
        "                self.parameters[\"b\" + str(l)] = self.parameters[\"b\" + str(l)] - learning_rate * derivatives[\n",
        "                    \"db\" + str(l)]\n",
        "\n",
        "            if loop % 10 == 0:\n",
        "                \n",
        "                self.costs.append(cost)\n",
        "        print('Cost',cost)\n",
        "    def predict(self, X, Y):\n",
        "        A, cache = self.forward(X)\n",
        "        n = X.shape[0]\n",
        "        p = np.zeros((1, n))\n",
        "\n",
        "        for i in range(0, A.shape[1]):\n",
        "            if A[0, i] > 0.5:\n",
        "                p[0, i] = 1\n",
        "            else:\n",
        "                p[0, i] = 0\n",
        "\n",
        "        print(\"Accuracy: \" + str(np.sum((p == Y) / n)))\n",
        "\n",
        "    def plot_cost(self):\n",
        "        plt.figure()\n",
        "        plt.plot(np.arange(len(self.costs)), self.costs)\n",
        "        plt.xlabel(\"epochs\")\n",
        "        plt.ylabel(\"cost\")\n",
        "        plt.show()"
      ],
      "metadata": {
        "id": "hbF5MS0VEO0i"
      },
      "execution_count": 63,
      "outputs": []
    },
    {
      "cell_type": "code",
      "source": [
        "url = \"/content/drive/MyDrive/file.csv\"\n",
        "data = np.array(read_csv(url))"
      ],
      "metadata": {
        "id": "i_sL4aQ3EaFa"
      },
      "execution_count": 4,
      "outputs": []
    },
    {
      "cell_type": "code",
      "source": [
        "print(\"Data = \", data)\n",
        "# normalize the data attributes\n",
        "normalized = preprocessing.normalize(data)\n",
        "print(\"Normalized Data = \", normalized)"
      ],
      "metadata": {
        "id": "8YHStsLSAJ4A"
      },
      "execution_count": null,
      "outputs": []
    },
    {
      "cell_type": "code",
      "source": [
        "X,y = data[0:41,:2],data[0:41,2]\n",
        "X_test, y_test = data[41:,:2],data[41:,2]"
      ],
      "metadata": {
        "id": "oMW_rfX9FGzd"
      },
      "execution_count": 65,
      "outputs": []
    },
    {
      "cell_type": "code",
      "source": [
        "if __name__ == '__main__':\n",
        "    train_x, train_y, test_x, test_y = X,y,X_test,y_test\n",
        "    print(\"train_x's shape: \" + str(train_x.shape))\n",
        "    print(\"test_x's shape: \" + str(test_x.shape))\n",
        "\n",
        "    layers_dims = [10,10,10,1]\n",
        "\n",
        "    ann = ANN(layers_dims)\n",
        "    ann.fit(train_x, train_y, learning_rate=0.999, n_iterations=3000)\n",
        "    ann.predict(train_x, train_y)\n",
        "    ann.predict(test_x, test_y)\n",
        "    ann.plot_cost()"
      ],
      "metadata": {
        "colab": {
          "base_uri": "https://localhost:8080/",
          "height": 366
        },
        "id": "ypbtM7IxErKC",
        "outputId": "63a29460-a74d-4d68-ea35-053eba56fb70"
      },
      "execution_count": 66,
      "outputs": [
        {
          "output_type": "stream",
          "name": "stdout",
          "text": [
            "train_x's shape: (41, 2)\n",
            "test_x's shape: (13, 2)\n",
            "Cost 0.2723224964458575\n",
            "Accuracy: 0.6097560975609757\n",
            "Accuracy: 0.46153846153846156\n"
          ]
        },
        {
          "output_type": "display_data",
          "data": {
            "image/png": "[encoded data removed]",
            "text/plain": [
              "<Figure size 432x288 with 1 Axes>"
            ]
          },
          "metadata": {
            "needs_background": "light"
          }
        }
      ]
    },
    {
      "cell_type": "code",
      "source": [
        ""
      ],
      "metadata": {
        "id": "KT_y7SNw_tGn"
      },
      "execution_count": 7,
      "outputs": []
    }
  ]
}